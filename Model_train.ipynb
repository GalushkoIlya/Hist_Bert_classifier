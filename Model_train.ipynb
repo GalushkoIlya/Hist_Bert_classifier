{
 "cells": [
  {
   "cell_type": "code",
   "execution_count": null,
   "id": "ecb650b1-8afb-4430-8e4f-d293260125ea",
   "metadata": {
    "cellId": "i8ftqn4mnmb9h9tzwpqx8"
   },
   "outputs": [],
   "source": [
    "#!g1.1\n",
    "import pandas as pd\n",
    "import numpy as np\n",
    "\n",
    "df = pd.read_csv(\"/home/jupyter/datasphere/project/CW_dataset/CW_dataset.csv\")\n",
    "\n"
   ]
  },
  {
   "cell_type": "code",
   "execution_count": 79,
   "id": "a1e54826-52fb-45d4-9310-48160b0be037",
   "metadata": {
    "cellId": "iwnu4ilcav2a3w51ogw2j"
   },
   "outputs": [],
   "source": [
    "#!g1.1\n",
    "\n",
    "# split the text into word lists for training set\n",
    "list_of_texts = []\n",
    "for i in range(df.shape[0]):\n",
    "    #pull the words\n",
    "    words = str(df['text'][i])\n",
    "    #remove the punctuation\n",
    "    q = len(df['text'][i].split())\n",
    "    list_of_texts.append(q)\n",
    "   \n"
   ]
  },
  {
   "cell_type": "code",
   "execution_count": 80,
   "id": "aa272996-ee3d-41f3-b12d-f6c069c09647",
   "metadata": {
    "cellId": "sos6vrtp8rn5byjb2lajgx"
   },
   "outputs": [
    {
     "name": "stdout",
     "output_type": "stream",
     "text": [
      "567.4438295517432\n"
     ]
    }
   ],
   "source": [
    "#!g1.1\n",
    "import statistics\n",
    "print(statistics.mean(list_of_texts))"
   ]
  },
  {
   "cell_type": "code",
   "execution_count": 26,
   "id": "2fd8fcfc",
   "metadata": {
    "cellId": "uvyx0ylqbugle0fnr8ilmn",
    "execution": {
     "iopub.execute_input": "2024-06-13T01:55:03.532225Z",
     "iopub.status.busy": "2024-06-13T01:55:03.531004Z",
     "iopub.status.idle": "2024-06-13T01:55:03.851924Z",
     "shell.execute_reply": "2024-06-13T01:55:03.850940Z",
     "shell.execute_reply.started": "2024-06-13T01:55:03.532182Z"
    },
    "tags": []
   },
   "outputs": [],
   "source": [
    "#!g1.1\n",
    "import transformers\n",
    "import torch\n",
    "from transformers import AutoTokenizer\n",
    "\n",
    "tokenizer = AutoTokenizer.from_pretrained('DeepPavlov/rubert-base-cased')\n",
    "\n",
    "\n",
    "\n",
    "\n"
   ]
  },
  {
   "cell_type": "code",
   "execution_count": 27,
   "id": "d8940a6d",
   "metadata": {
    "cellId": "a8b1s6gz4loy4svr64wwz",
    "execution": {
     "iopub.execute_input": "2024-06-13T01:55:07.250697Z",
     "iopub.status.busy": "2024-06-13T01:55:07.249617Z",
     "iopub.status.idle": "2024-06-13T01:55:08.448515Z",
     "shell.execute_reply": "2024-06-13T01:55:08.447725Z",
     "shell.execute_reply.started": "2024-06-13T01:55:07.250636Z"
    },
    "tags": []
   },
   "outputs": [
    {
     "name": "stderr",
     "output_type": "stream",
     "text": [
      "\n",
      "Downloading data files: 100%|██████████| 1/1 [00:00<00:00, 1572.67it/s]\n",
      "\n",
      "Extracting data files: 100%|██████████| 1/1 [00:00<00:00, 149.75it/s]\n",
      "\n",
      "Generating train split: 0 examples [00:00, ? examples/s]\u001b[A\n",
      "Generating train split: 10000 examples [00:00, 50720.84 examples/s]\u001b[A\n"
     ]
    }
   ],
   "source": [
    "#!g1.1\n",
    "import pandas as pd\n",
    "import numpy as np\n",
    "from datasets import load_dataset\n",
    "\n",
    "dataset_train = load_dataset('/home/jupyter/datasphere/project/CW_dataset/', data_files='out.csv', split='train[:80%]')\n",
    "dataset_test = load_dataset('/home/jupyter/datasphere/project/CW_dataset/', data_files='out.csv', split='train[80%:]')"
   ]
  },
  {
   "cell_type": "code",
   "execution_count": 28,
   "id": "0d897dc3",
   "metadata": {
    "cellId": "0jodagubm1nbiodeyf6f7zb",
    "execution": {
     "iopub.execute_input": "2024-06-13T01:55:18.950337Z",
     "iopub.status.busy": "2024-06-13T01:55:18.949472Z",
     "iopub.status.idle": "2024-06-13T01:55:18.982415Z",
     "shell.execute_reply": "2024-06-13T01:55:18.981650Z",
     "shell.execute_reply.started": "2024-06-13T01:55:18.950292Z"
    },
    "tags": []
   },
   "outputs": [],
   "source": [
    "#!g1.1\n",
    "def preprocess_function(examples):\n",
    "        return tokenizer(examples[\"text\"], padding='max_length', max_length = 512, truncation=True)"
   ]
  },
  {
   "cell_type": "code",
   "execution_count": 29,
   "id": "065d950f",
   "metadata": {
    "cellId": "sau3n4u8b9ecr7m45t52",
    "execution": {
     "iopub.execute_input": "2024-06-13T01:55:20.877683Z",
     "iopub.status.busy": "2024-06-13T01:55:20.876527Z",
     "iopub.status.idle": "2024-06-13T01:55:23.882978Z",
     "shell.execute_reply": "2024-06-13T01:55:23.882089Z",
     "shell.execute_reply.started": "2024-06-13T01:55:20.877633Z"
    },
    "tags": []
   },
   "outputs": [
    {
     "name": "stderr",
     "output_type": "stream",
     "text": [
      "\n",
      "Map:   0%|          | 0/8000 [00:00<?, ? examples/s]\u001b[A\n",
      "Map:  12%|█▎        | 1000/8000 [00:00<00:01, 3823.17 examples/s]\u001b[A\n",
      "Map:  25%|██▌       | 2000/8000 [00:00<00:01, 3815.28 examples/s]\u001b[A\n",
      "Map:  38%|███▊      | 3000/8000 [00:00<00:01, 3793.78 examples/s]\u001b[A\n",
      "Map:  50%|█████     | 4000/8000 [00:01<00:01, 3762.02 examples/s]\u001b[A\n",
      "Map:  62%|██████▎   | 5000/8000 [00:01<00:00, 3707.29 examples/s]\u001b[A\n",
      "Map:  75%|███████▌  | 6000/8000 [00:01<00:00, 3695.67 examples/s]\u001b[A\n",
      "Map:  88%|████████▊ | 7000/8000 [00:01<00:00, 3676.08 examples/s]\u001b[A\n",
      "Map: 100%|██████████| 8000/8000 [00:02<00:00, 3438.76 examples/s]\u001b[A\n",
      "\n",
      "Map:   0%|          | 0/2000 [00:00<?, ? examples/s]\u001b[A\n",
      "Map:  50%|█████     | 1000/2000 [00:00<00:00, 3650.61 examples/s]\u001b[A\n",
      "Map: 100%|██████████| 2000/2000 [00:00<00:00, 3448.48 examples/s]\u001b[A\n"
     ]
    }
   ],
   "source": [
    "#!g1.1\n",
    "tokenized_CW_train = dataset_train.map(preprocess_function, batched=True)\n",
    "tokenized_CW_test = dataset_test.map(preprocess_function, batched=True)"
   ]
  },
  {
   "cell_type": "code",
   "execution_count": 30,
   "id": "201676a9",
   "metadata": {
    "cellId": "0lrxmh4hwzwniqlimpw24aa",
    "execution": {
     "iopub.execute_input": "2024-06-13T01:55:28.390886Z",
     "iopub.status.busy": "2024-06-13T01:55:28.389751Z",
     "iopub.status.idle": "2024-06-13T01:55:28.404466Z",
     "shell.execute_reply": "2024-06-13T01:55:28.403588Z",
     "shell.execute_reply.started": "2024-06-13T01:55:28.390842Z"
    },
    "tags": []
   },
   "outputs": [],
   "source": [
    "#!g1.1\n",
    "from transformers import DataCollatorWithPadding\n",
    "\n",
    "data_collator = DataCollatorWithPadding(tokenizer=tokenizer)"
   ]
  },
  {
   "cell_type": "code",
   "execution_count": 10,
   "id": "ba900255",
   "metadata": {
    "cellId": "neomkwcncxmi1jwgb1rkka",
    "execution": {
     "iopub.execute_input": "2024-06-13T01:44:23.455679Z",
     "iopub.status.busy": "2024-06-13T01:44:23.454694Z",
     "iopub.status.idle": "2024-06-13T01:44:32.274070Z",
     "shell.execute_reply": "2024-06-13T01:44:32.273154Z",
     "shell.execute_reply.started": "2024-06-13T01:44:23.455639Z"
    },
    "tags": []
   },
   "outputs": [
    {
     "name": "stderr",
     "output_type": "stream",
     "text": [
      "huggingface/tokenizers: The current process just got forked, after parallelism has already been used. Disabling parallelism to avoid deadlocks...\n",
      "To disable this warning, you can either:\n",
      "\t- Avoid using `tokenizers` before the fork if possible\n",
      "\t- Explicitly set the environment variable TOKENIZERS_PARALLELISM=(true | false)\n"
     ]
    },
    {
     "name": "stdout",
     "output_type": "stream",
     "text": [
      "Defaulting to user installation because normal site-packages is not writeable\n",
      "Requirement already satisfied: evaluate in /home/jupyter/.local/lib/python3.9/site-packages (0.4.1)\n",
      "Requirement already satisfied: datasets>=2.0.0 in /home/jupyter/.local/lib/python3.9/site-packages (from evaluate) (2.14.6)\n",
      "Requirement already satisfied: numpy>=1.17 in /home/jupyter/.local/lib/python3.9/site-packages (from evaluate) (1.26.3)\n",
      "Requirement already satisfied: dill in /home/jupyter/.local/lib/python3.9/site-packages (from evaluate) (0.3.7)\n",
      "Requirement already satisfied: pandas in /home/jupyter/.local/lib/python3.9/site-packages (from evaluate) (2.1.3)\n",
      "Requirement already satisfied: requests>=2.19.0 in /kernel/fallback/lib/python3.9/site-packages (from evaluate) (2.31.0)\n",
      "Requirement already satisfied: tqdm>=4.62.1 in /home/jupyter/.local/lib/python3.9/site-packages (from evaluate) (4.66.1)\n",
      "Requirement already satisfied: xxhash in /home/jupyter/.local/lib/python3.9/site-packages (from evaluate) (3.4.1)\n",
      "Requirement already satisfied: multiprocess in /home/jupyter/.local/lib/python3.9/site-packages (from evaluate) (0.70.15)\n",
      "Requirement already satisfied: fsspec>=2021.05.0 in /home/jupyter/.local/lib/python3.9/site-packages (from fsspec[http]>=2021.05.0->evaluate) (2023.10.0)\n",
      "Requirement already satisfied: huggingface-hub>=0.7.0 in /home/jupyter/.local/lib/python3.9/site-packages (from evaluate) (0.17.3)\n",
      "Requirement already satisfied: packaging in /home/jupyter/.local/lib/python3.9/site-packages (from evaluate) (24.0)\n",
      "Requirement already satisfied: responses<0.19 in /home/jupyter/.local/lib/python3.9/site-packages (from evaluate) (0.18.0)\n",
      "Requirement already satisfied: pyarrow>=8.0.0 in /home/jupyter/.local/lib/python3.9/site-packages (from datasets>=2.0.0->evaluate) (14.0.1)\n",
      "Requirement already satisfied: aiohttp in /home/jupyter/.local/lib/python3.9/site-packages (from datasets>=2.0.0->evaluate) (3.8.6)\n",
      "Requirement already satisfied: pyyaml>=5.1 in /home/jupyter/.local/lib/python3.9/site-packages (from datasets>=2.0.0->evaluate) (6.0.1)\n",
      "Requirement already satisfied: filelock in /usr/local/lib/python3.9/dist-packages (from huggingface-hub>=0.7.0->evaluate) (3.13.1)\n",
      "Requirement already satisfied: typing-extensions>=3.7.4.3 in /usr/local/lib/python3.9/dist-packages (from huggingface-hub>=0.7.0->evaluate) (4.8.0)\n",
      "Requirement already satisfied: charset-normalizer<4,>=2 in /kernel/fallback/lib/python3.9/site-packages (from requests>=2.19.0->evaluate) (3.3.2)\n",
      "Requirement already satisfied: idna<4,>=2.5 in /kernel/fallback/lib/python3.9/site-packages (from requests>=2.19.0->evaluate) (3.7)\n",
      "Requirement already satisfied: urllib3<3,>=1.21.1 in /kernel/fallback/lib/python3.9/site-packages (from requests>=2.19.0->evaluate) (1.25.11)\n",
      "Requirement already satisfied: certifi>=2017.4.17 in /kernel/fallback/lib/python3.9/site-packages (from requests>=2.19.0->evaluate) (2024.2.2)\n",
      "Requirement already satisfied: python-dateutil>=2.8.2 in /kernel/fallback/lib/python3.9/site-packages (from pandas->evaluate) (2.9.0.post0)\n",
      "Requirement already satisfied: pytz>=2020.1 in /kernel/fallback/lib/python3.9/site-packages (from pandas->evaluate) (2024.1)\n",
      "Requirement already satisfied: tzdata>=2022.1 in /home/jupyter/.local/lib/python3.9/site-packages (from pandas->evaluate) (2023.3)\n",
      "Requirement already satisfied: attrs>=17.3.0 in /home/jupyter/.local/lib/python3.9/site-packages (from aiohttp->datasets>=2.0.0->evaluate) (23.2.0)\n",
      "Requirement already satisfied: multidict<7.0,>=4.5 in /home/jupyter/.local/lib/python3.9/site-packages (from aiohttp->datasets>=2.0.0->evaluate) (6.0.4)\n",
      "Requirement already satisfied: async-timeout<5.0,>=4.0.0a3 in /home/jupyter/.local/lib/python3.9/site-packages (from aiohttp->datasets>=2.0.0->evaluate) (4.0.3)\n",
      "Requirement already satisfied: yarl<2.0,>=1.0 in /home/jupyter/.local/lib/python3.9/site-packages (from aiohttp->datasets>=2.0.0->evaluate) (1.9.2)\n",
      "Requirement already satisfied: frozenlist>=1.1.1 in /home/jupyter/.local/lib/python3.9/site-packages (from aiohttp->datasets>=2.0.0->evaluate) (1.4.0)\n",
      "Requirement already satisfied: aiosignal>=1.1.2 in /home/jupyter/.local/lib/python3.9/site-packages (from aiohttp->datasets>=2.0.0->evaluate) (1.3.1)\n",
      "Requirement already satisfied: six>=1.5 in /kernel/fallback/lib/python3.9/site-packages (from python-dateutil>=2.8.2->pandas->evaluate) (1.16.0)\n",
      "\n",
      "\u001b[1m[\u001b[0m\u001b[34;49mnotice\u001b[0m\u001b[1;39;49m]\u001b[0m\u001b[39;49m A new release of pip is available: \u001b[0m\u001b[31;49m23.0.1\u001b[0m\u001b[39;49m -> \u001b[0m\u001b[32;49m24.0\u001b[0m\n",
      "\u001b[1m[\u001b[0m\u001b[34;49mnotice\u001b[0m\u001b[1;39;49m]\u001b[0m\u001b[39;49m To update, run: \u001b[0m\u001b[32;49mpython3 -m pip install --upgrade pip\u001b[0m\n"
     ]
    },
    {
     "name": "stderr",
     "output_type": "stream",
     "text": [
      "Downloading builder script: 100%|██████████| 4.20k/4.20k [00:00<00:00, 1.52MB/s]\n"
     ]
    }
   ],
   "source": [
    "#!g1.1\n",
    "%pip install evaluate\n",
    "\n",
    "import evaluate\n",
    "\n",
    "accuracy = evaluate.load(\"accuracy\")"
   ]
  },
  {
   "cell_type": "code",
   "execution_count": 31,
   "id": "ca71ec2e",
   "metadata": {
    "cellId": "7nbabet8t25wf7nvbvz7ni",
    "execution": {
     "iopub.execute_input": "2024-06-13T01:55:32.870888Z",
     "iopub.status.busy": "2024-06-13T01:55:32.869930Z",
     "iopub.status.idle": "2024-06-13T01:55:32.897202Z",
     "shell.execute_reply": "2024-06-13T01:55:32.896308Z",
     "shell.execute_reply.started": "2024-06-13T01:55:32.870844Z"
    },
    "tags": []
   },
   "outputs": [],
   "source": [
    "#!g1.1\n",
    "import numpy as np\n",
    "\n",
    "\n",
    "def compute_metrics(eval_pred):\n",
    "    predictions, labels = eval_pred\n",
    "    predictions = np.argmax(predictions, axis=1)\n",
    "    return accuracy.compute(predictions=predictions, references=labels)"
   ]
  },
  {
   "cell_type": "code",
   "execution_count": 32,
   "id": "eab181a5",
   "metadata": {
    "cellId": "qc49uu40jhn71hpmxf2a",
    "execution": {
     "iopub.execute_input": "2024-06-13T01:55:35.030554Z",
     "iopub.status.busy": "2024-06-13T01:55:35.029361Z",
     "iopub.status.idle": "2024-06-13T01:55:35.043152Z",
     "shell.execute_reply": "2024-06-13T01:55:35.042374Z",
     "shell.execute_reply.started": "2024-06-13T01:55:35.030510Z"
    },
    "tags": []
   },
   "outputs": [],
   "source": [
    "#!g1.1\n",
    "id2label = {0: \"0\", 1: \"1\", 2: \"2\", 3: \"3\", 4: \"4\", 5: \"5\"}\n",
    "label2id = {\"0\": 0, \"1\": 1,\"2\": 2, \"3\": 3,\"4\": 4, \"5\": 5}"
   ]
  },
  {
   "cell_type": "code",
   "execution_count": 33,
   "id": "0f4312bc",
   "metadata": {
    "cellId": "nifxojded9gg56acp4mj6w",
    "execution": {
     "iopub.execute_input": "2024-06-13T01:55:37.516875Z",
     "iopub.status.busy": "2024-06-13T01:55:37.515775Z",
     "iopub.status.idle": "2024-06-13T01:55:39.533265Z",
     "shell.execute_reply": "2024-06-13T01:55:39.532398Z",
     "shell.execute_reply.started": "2024-06-13T01:55:37.516830Z"
    },
    "tags": []
   },
   "outputs": [
    {
     "name": "stderr",
     "output_type": "stream",
     "text": [
      "Some weights of BertForSequenceClassification were not initialized from the model checkpoint at DeepPavlov/rubert-base-cased and are newly initialized: ['classifier.weight', 'classifier.bias']\n",
      "You should probably TRAIN this model on a down-stream task to be able to use it for predictions and inference.\n"
     ]
    }
   ],
   "source": [
    "#!g1.1\n",
    "from transformers import AutoModelForSequenceClassification, TrainingArguments, Trainer\n",
    "\n",
    "model = AutoModelForSequenceClassification.from_pretrained(\n",
    "    \"DeepPavlov/rubert-base-cased\", num_labels=6, id2label=id2label, label2id=label2id\n",
    ")\n",
    "\n"
   ]
  },
  {
   "cell_type": "code",
   "execution_count": 34,
   "id": "38f558ba",
   "metadata": {
    "cellId": "cmxqj5vthv69s7puaxx65i",
    "execution": {
     "iopub.execute_input": "2024-06-13T01:55:47.097732Z",
     "iopub.status.busy": "2024-06-13T01:55:47.096564Z",
     "iopub.status.idle": "2024-06-13T01:55:47.109482Z",
     "shell.execute_reply": "2024-06-13T01:55:47.108684Z",
     "shell.execute_reply.started": "2024-06-13T01:55:47.097686Z"
    },
    "tags": []
   },
   "outputs": [],
   "source": [
    "#!g1.1\n",
    "training_args = TrainingArguments(\n",
    "    output_dir=\"/home/jupyter/datasphere/project/Trained_Bert_classifier_2\",\n",
    "    learning_rate=2e-5,\n",
    "    per_device_train_batch_size=4,\n",
    "    do_eval=False,\n",
    "    num_train_epochs=2,\n",
    "    weight_decay=0.01,\n",
    "    evaluation_strategy=\"no\",\n",
    "    report_to='none'\n",
    ")"
   ]
  },
  {
   "cell_type": "code",
   "execution_count": 35,
   "id": "1877e5d7",
   "metadata": {
    "cellId": "wthg62ofuj37ne4luowqq",
    "execution": {
     "iopub.execute_input": "2024-06-13T01:55:50.332158Z",
     "iopub.status.busy": "2024-06-13T01:55:50.331358Z",
     "iopub.status.idle": "2024-06-13T01:55:50.459731Z",
     "shell.execute_reply": "2024-06-13T01:55:50.458852Z",
     "shell.execute_reply.started": "2024-06-13T01:55:50.332114Z"
    },
    "tags": []
   },
   "outputs": [],
   "source": [
    "#!g1.1\n",
    "trainer = Trainer(\n",
    "    model=model,\n",
    "    args=training_args,\n",
    "    train_dataset=tokenized_CW_train,\n",
    "    tokenizer=tokenizer,\n",
    "    data_collator=data_collator,\n",
    "    compute_metrics=compute_metrics\n",
    ")"
   ]
  },
  {
   "cell_type": "code",
   "execution_count": null,
   "id": "4ac85953",
   "metadata": {
    "cellId": "v4rwxunc4mlp10egsqqod",
    "tags": []
   },
   "outputs": [],
   "source": [
    "#!g1.1\n",
    "trainer.train()"
   ]
  },
  {
   "cell_type": "code",
   "execution_count": 22,
   "id": "41be063c",
   "metadata": {
    "cellId": "goaht12wwsgxz0ep809cd",
    "execution": {
     "iopub.execute_input": "2024-05-29T23:02:24.630416Z",
     "iopub.status.busy": "2024-05-29T23:02:24.629437Z",
     "iopub.status.idle": "2024-05-29T23:02:24.748372Z",
     "shell.execute_reply": "2024-05-29T23:02:24.747529Z",
     "shell.execute_reply.started": "2024-05-29T23:02:24.630374Z"
    },
    "tags": []
   },
   "outputs": [],
   "source": [
    "#!g1.1\n",
    "\n",
    "import transformers\n",
    "import torch\n",
    "from transformers import AutoTokenizer\n",
    "\n",
    "tokenizer = AutoTokenizer.from_pretrained('/home/jupyter/datasphere/project/Trained_Bert_classifier/checkpoint-500')\n"
   ]
  },
  {
   "cell_type": "code",
   "execution_count": 23,
   "id": "9ace85ca",
   "metadata": {
    "cellId": "6mr9y2n2ksr1ewkoqlsfyxj",
    "execution": {
     "iopub.execute_input": "2024-05-29T23:02:32.032647Z",
     "iopub.status.busy": "2024-05-29T23:02:32.031512Z",
     "iopub.status.idle": "2024-05-29T23:02:33.330266Z",
     "shell.execute_reply": "2024-05-29T23:02:33.329405Z",
     "shell.execute_reply.started": "2024-05-29T23:02:32.032601Z"
    }
   },
   "outputs": [],
   "source": [
    "#!g1.1\n",
    "import transformers\n",
    "import torch\n",
    "from transformers import AutoTokenizer\n",
    "from transformers import AutoModelForSequenceClassification, TrainingArguments, Trainer\n",
    "\n",
    "model = AutoModelForSequenceClassification.from_pretrained(\n",
    "    \"/home/jupyter/datasphere/project/Trained_Bert_classifier/checkpoint-500\", num_labels=8, id2label=id2label, label2id=label2id\n",
    ") "
   ]
  },
  {
   "cell_type": "code",
   "execution_count": 24,
   "id": "1701175b",
   "metadata": {
    "cellId": "y9yk7fqy03i5cx2g3vzlcd",
    "execution": {
     "iopub.execute_input": "2024-05-29T23:02:35.687093Z",
     "iopub.status.busy": "2024-05-29T23:02:35.685970Z",
     "iopub.status.idle": "2024-05-29T23:02:35.743241Z",
     "shell.execute_reply": "2024-05-29T23:02:35.742437Z",
     "shell.execute_reply.started": "2024-05-29T23:02:35.687051Z"
    }
   },
   "outputs": [],
   "source": [
    "#!g1.1\n",
    "labels = sorted(model.config.label2id, key=model.config.label2id.get)\n"
   ]
  },
  {
   "cell_type": "code",
   "execution_count": null,
   "id": "68421e9b",
   "metadata": {
    "cellId": "9ggk336sragk48htkekwb",
    "tags": []
   },
   "outputs": [],
   "source": [
    "#!g1.1\n",
    " model.eval()"
   ]
  },
  {
   "cell_type": "code",
   "execution_count": 26,
   "id": "e569a658",
   "metadata": {
    "cellId": "8r77za8lzhy3qg9jj653te",
    "execution": {
     "iopub.execute_input": "2024-05-29T23:02:45.236276Z",
     "iopub.status.busy": "2024-05-29T23:02:45.235271Z",
     "iopub.status.idle": "2024-05-29T23:02:45.254330Z",
     "shell.execute_reply": "2024-05-29T23:02:45.253585Z",
     "shell.execute_reply.started": "2024-05-29T23:02:45.236234Z"
    }
   },
   "outputs": [
    {
     "name": "stdout",
     "output_type": "stream",
     "text": [
      "Dataset({\n",
      "    features: ['text', 'label', 'input_ids', 'token_type_ids', 'attention_mask'],\n",
      "    num_rows: 485\n",
      "})\n"
     ]
    }
   ],
   "source": [
    "#!g1.1\n",
    "print(tokenized_CW_test)"
   ]
  },
  {
   "cell_type": "code",
   "execution_count": 27,
   "id": "95a5f9bc",
   "metadata": {
    "cellId": "3i30gujqbpuktnudcl04ja",
    "execution": {
     "iopub.execute_input": "2024-05-29T23:03:23.350528Z",
     "iopub.status.busy": "2024-05-29T23:03:23.349541Z",
     "iopub.status.idle": "2024-05-29T23:03:37.614538Z",
     "shell.execute_reply": "2024-05-29T23:03:37.613866Z",
     "shell.execute_reply.started": "2024-05-29T23:03:23.350480Z"
    }
   },
   "outputs": [
    {
     "name": "stderr",
     "output_type": "stream",
     "text": [
      "100%|██████████| 61/61 [00:13<00:00,  4.39it/s]\n"
     ]
    }
   ],
   "source": [
    "#!g1.1\n",
    "predictions  = trainer.predict(tokenized_CW_test)"
   ]
  },
  {
   "cell_type": "code",
   "execution_count": 28,
   "id": "59bdbdbb",
   "metadata": {
    "cellId": "k7h4bzl0mlmb9eooylnl9",
    "execution": {
     "iopub.execute_input": "2024-05-29T23:03:40.510432Z",
     "iopub.status.busy": "2024-05-29T23:03:40.509449Z",
     "iopub.status.idle": "2024-05-29T23:03:40.546385Z",
     "shell.execute_reply": "2024-05-29T23:03:40.545628Z",
     "shell.execute_reply.started": "2024-05-29T23:03:40.510388Z"
    }
   },
   "outputs": [
    {
     "name": "stdout",
     "output_type": "stream",
     "text": [
      "(485, 8) (485,)\n"
     ]
    }
   ],
   "source": [
    "#!g1.1\n",
    "print(predictions.predictions.shape, predictions.label_ids.shape)"
   ]
  },
  {
   "cell_type": "code",
   "execution_count": 29,
   "id": "f4006eef",
   "metadata": {
    "cellId": "bv622muwys84a1s0ig31cc",
    "execution": {
     "iopub.execute_input": "2024-05-29T23:03:43.179919Z",
     "iopub.status.busy": "2024-05-29T23:03:43.178921Z",
     "iopub.status.idle": "2024-05-29T23:03:43.209636Z",
     "shell.execute_reply": "2024-05-29T23:03:43.208730Z",
     "shell.execute_reply.started": "2024-05-29T23:03:43.179880Z"
    }
   },
   "outputs": [
    {
     "name": "stdout",
     "output_type": "stream",
     "text": [
      "PredictionOutput(predictions=array([[-0.90430146, -0.695551  ,  6.2991447 , ..., -1.0411364 ,\n",
      "        -1.1330239 , -0.45338547],\n",
      "       [-0.15229808, -1.0796051 , -1.2205628 , ...,  6.2253475 ,\n",
      "        -1.2187221 ,  0.3309724 ],\n",
      "       [-1.1101298 , -1.0288961 , -0.6363298 , ..., -0.6426865 ,\n",
      "        -0.6138447 ,  6.612135  ],\n",
      "       ...,\n",
      "       [-1.0795137 , -1.0714254 , -0.6115971 , ..., -0.61430794,\n",
      "        -0.6220971 ,  6.617766  ],\n",
      "       [-0.95550776, -0.97638416, -1.1292629 , ...,  6.2457085 ,\n",
      "        -1.2937596 , -0.44293088],\n",
      "       [-0.99417794, -1.0750242 , -0.73827845, ..., -0.35751623,\n",
      "        -0.7248068 ,  6.599467  ]], dtype=float32), label_ids=array([2, 7, 7, 2, 2, 5, 7, 1, 7, 3, 5, 6, 7, 2, 4, 1, 2, 1, 2, 1, 4, 3,\n",
      "       5, 4, 1, 2, 5, 6, 4, 6, 4, 0, 3, 4, 4, 0, 2, 5, 4, 2, 2, 4, 5, 5,\n",
      "       7, 7, 1, 4, 0, 3, 7, 4, 4, 2, 4, 1, 4, 1, 7, 7, 0, 5, 5, 2, 6, 7,\n",
      "       7, 0, 2, 3, 0, 0, 7, 4, 7, 3, 7, 7, 3, 7, 4, 5, 3, 7, 6, 5, 7, 7,\n",
      "       5, 7, 0, 4, 5, 5, 1, 7, 7, 7, 0, 6, 6, 5, 3, 5, 5, 0, 6, 0, 7, 2,\n",
      "       7, 7, 4, 1, 6, 4, 7, 7, 5, 2, 3, 2, 5, 2, 2, 1, 7, 4, 1, 5, 7, 3,\n",
      "       4, 2, 7, 1, 2, 2, 1, 0, 4, 4, 7, 2, 5, 7, 1, 7, 7, 5, 7, 0, 7, 6,\n",
      "       4, 5, 2, 4, 2, 6, 4, 2, 7, 3, 4, 7, 7, 5, 7, 1, 3, 4, 1, 2, 0, 4,\n",
      "       6, 7, 7, 4, 4, 7, 1, 5, 6, 2, 5, 7, 7, 5, 5, 1, 6, 1, 7, 7, 0, 3,\n",
      "       4, 0, 4, 3, 7, 4, 7, 5, 2, 7, 1, 7, 3, 7, 4, 4, 1, 2, 4, 1, 3, 3,\n",
      "       5, 3, 7, 4, 3, 7, 0, 0, 1, 7, 7, 2, 3, 7, 5, 7, 2, 6, 0, 1, 4, 1,\n",
      "       5, 0, 7, 2, 3, 0, 7, 2, 6, 2, 0, 4, 3, 0, 4, 0, 5, 7, 2, 1, 6, 1,\n",
      "       0, 7, 6, 1, 7, 1, 2, 4, 1, 3, 6, 7, 2, 7, 0, 4, 6, 7, 7, 2, 6, 2,\n",
      "       7, 1, 0, 2, 4, 0, 6, 0, 3, 7, 7, 7, 4, 6, 7, 2, 6, 1, 6, 7, 3, 4,\n",
      "       2, 2, 5, 7, 4, 1, 5, 7, 1, 2, 7, 7, 7, 6, 3, 1, 0, 4, 0, 6, 7, 2,\n",
      "       4, 5, 7, 5, 7, 5, 1, 2, 4, 2, 7, 6, 5, 3, 6, 2, 5, 1, 7, 2, 3, 1,\n",
      "       4, 3, 1, 6, 0, 2, 3, 2, 0, 2, 7, 2, 1, 1, 7, 7, 5, 2, 7, 3, 2, 6,\n",
      "       0, 4, 4, 7, 2, 7, 5, 6, 1, 4, 7, 2, 5, 0, 2, 7, 4, 2, 5, 3, 3, 2,\n",
      "       0, 7, 6, 5, 7, 6, 7, 2, 5, 0, 0, 7, 7, 7, 7, 1, 1, 0, 7, 5, 3, 0,\n",
      "       0, 1, 7, 4, 7, 4, 5, 5, 4, 7, 3, 1, 1, 7, 7, 1, 6, 1, 3, 0, 1, 5,\n",
      "       2, 4, 7, 0, 7, 7, 7, 2, 7, 7, 5, 6, 0, 4, 4, 5, 3, 1, 4, 0, 0, 2,\n",
      "       3, 4, 1, 5, 4, 7, 7, 6, 2, 4, 3, 3, 5, 0, 2, 0, 1, 6, 0, 3, 7, 5,\n",
      "       7]), metrics={'test_loss': 0.11403428018093109, 'test_accuracy': 0.977319587628866, 'test_runtime': 14.2468, 'test_samples_per_second': 34.043, 'test_steps_per_second': 4.282})\n"
     ]
    }
   ],
   "source": [
    "#!g1.1\n",
    "print(predictions)"
   ]
  },
  {
   "cell_type": "code",
   "execution_count": 30,
   "id": "def7dddf",
   "metadata": {
    "cellId": "d0f98oddmdu3k4q4bh9fr7",
    "execution": {
     "iopub.execute_input": "2024-05-29T23:03:46.469502Z",
     "iopub.status.busy": "2024-05-29T23:03:46.468395Z",
     "iopub.status.idle": "2024-05-29T23:03:46.486145Z",
     "shell.execute_reply": "2024-05-29T23:03:46.485430Z",
     "shell.execute_reply.started": "2024-05-29T23:03:46.469462Z"
    }
   },
   "outputs": [],
   "source": [
    "#!g1.1\n",
    "import numpy as np\n",
    "\n",
    "preds = np.argmax(predictions.predictions, axis=-1)"
   ]
  },
  {
   "cell_type": "code",
   "execution_count": 31,
   "id": "dce4562f",
   "metadata": {
    "cellId": "aujwa0s33kvlpfxyj8id2",
    "execution": {
     "iopub.execute_input": "2024-05-29T23:03:49.767194Z",
     "iopub.status.busy": "2024-05-29T23:03:49.766332Z",
     "iopub.status.idle": "2024-05-29T23:03:49.787297Z",
     "shell.execute_reply": "2024-05-29T23:03:49.786472Z",
     "shell.execute_reply.started": "2024-05-29T23:03:49.767149Z"
    }
   },
   "outputs": [],
   "source": [
    "#!g1.1\n",
    "actual = tokenized_CW_test['label']"
   ]
  },
  {
   "cell_type": "code",
   "execution_count": 32,
   "id": "dfca8a2e",
   "metadata": {
    "cellId": "5soq5ad25fhegbik8enmkr",
    "execution": {
     "iopub.execute_input": "2024-05-29T23:03:52.019784Z",
     "iopub.status.busy": "2024-05-29T23:03:52.018464Z",
     "iopub.status.idle": "2024-05-29T23:03:52.060239Z",
     "shell.execute_reply": "2024-05-29T23:03:52.059350Z",
     "shell.execute_reply.started": "2024-05-29T23:03:52.019740Z"
    }
   },
   "outputs": [
    {
     "name": "stdout",
     "output_type": "stream",
     "text": [
      "              precision    recall  f1-score   support\n",
      "\n",
      "  Bolsheviki       1.00      0.98      0.99        49\n",
      "  Mensheviki       0.96      0.93      0.94        54\n",
      "    Left_SRs       0.99      1.00      0.99        66\n",
      "      Kadets       0.98      1.00      0.99        42\n",
      "      Rights       1.00      0.98      0.99        65\n",
      "  White_army       0.93      1.00      0.96        55\n",
      " Work_oppose       0.95      0.95      0.95        38\n",
      "      Nobles       0.99      0.97      0.98       116\n",
      "\n",
      "    accuracy                           0.98       485\n",
      "   macro avg       0.97      0.98      0.98       485\n",
      "weighted avg       0.98      0.98      0.98       485\n",
      "\n"
     ]
    }
   ],
   "source": [
    "#!g1.1\n",
    "from sklearn.metrics import classification_report\n",
    "    \n",
    "y_true = actual\n",
    "y_pred = preds\n",
    "\n",
    "target_names = ['Bolsheviki', 'Mensheviki', 'Left_SRs', 'Kadets', 'Rights', 'White_army', 'Work_oppose', 'Nobles']\n",
    "\n",
    "print(classification_report(y_true, y_pred, target_names=target_names))"
   ]
  },
  {
   "cell_type": "code",
   "execution_count": null,
   "id": "143d7fc4-58b3-4561-839d-880648bdb2f2",
   "metadata": {},
   "outputs": [],
   "source": []
  }
 ],
 "metadata": {
  "kernelspec": {
   "display_name": "Python 3 (ipykernel)",
   "language": "python",
   "name": "python3"
  },
  "language_info": {
   "codemirror_mode": {
    "name": "ipython",
    "version": 3
   },
   "file_extension": ".py",
   "mimetype": "text/x-python",
   "name": "python",
   "nbconvert_exporter": "python",
   "pygments_lexer": "ipython3",
   "version": "3.10.5"
  },
  "notebookId": "4434ed8e-9fa8-4a2f-b9c1-dc927aadd135",
  "notebookPath": "Bert_class_ALL_labels_train.ipynb"
 },
 "nbformat": 4,
 "nbformat_minor": 5
}
