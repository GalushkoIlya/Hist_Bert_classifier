{
 "cells": [
  {
   "cell_type": "code",
   "execution_count": null,
   "id": "6155f82b-8dc0-4b2a-88ba-105aa955c852",
   "metadata": {
    "scrolled": true
   },
   "outputs": [],
   "source": [
    "import gensim\n",
    "from gensim.models import word2vec\n",
    "from gensim.models.word2vec import Word2Vec\n",
    "import numpy as np\n",
    "import matplotlib.pyplot as plt\n",
    "import pandas as pd\n",
    "import spacy\n",
    "import string"
   ]
  },
  {
   "cell_type": "code",
   "execution_count": null,
   "id": "71f328b7-da7f-4681-9dd4-58dbd6f8b400",
   "metadata": {},
   "outputs": [],
   "source": [
    "stream = r'/home/jupyter/datasphere/project/65/model.bin'\n",
    "wv = gensim.models.KeyedVectors.load_word2vec_format(stream, binary=True)"
   ]
  },
  {
   "cell_type": "code",
   "execution_count": 3,
   "id": "359bf875-e0a2-430b-8ee7-72d09d5efcd2",
   "metadata": {},
   "outputs": [],
   "source": [
    "import pandas as pd\n",
    "import numpy as np\n",
    "\n",
    "data = pd.read_csv(r\"/home/jupyter/datasphere/project/CW_dataset/CW_dataset.csv\")"
   ]
  },
  {
   "cell_type": "code",
   "execution_count": 4,
   "id": "afcc125f-bdad-4d97-b942-8966fe7d5fef",
   "metadata": {},
   "outputs": [
    {
     "data": {
      "text/html": [
       "<div>\n",
       "<style scoped>\n",
       "    .dataframe tbody tr th:only-of-type {\n",
       "        vertical-align: middle;\n",
       "    }\n",
       "\n",
       "    .dataframe tbody tr th {\n",
       "        vertical-align: top;\n",
       "    }\n",
       "\n",
       "    .dataframe thead th {\n",
       "        text-align: right;\n",
       "    }\n",
       "</style>\n",
       "<table border=\"1\" class=\"dataframe\">\n",
       "  <thead>\n",
       "    <tr style=\"text-align: right;\">\n",
       "      <th></th>\n",
       "      <th>text</th>\n",
       "      <th>label</th>\n",
       "    </tr>\n",
       "  </thead>\n",
       "  <tbody>\n",
       "    <tr>\n",
       "      <th>0</th>\n",
       "      <td>№107 29 октября 1919 г. Председательствовал: г...</td>\n",
       "      <td>5</td>\n",
       "    </tr>\n",
       "    <tr>\n",
       "      <th>1</th>\n",
       "      <td>ОБЪЯВЛЕНИЕ ГЛАВНОГО СОВЕТА СРН О ВОЗМОЖНОСТИ ...</td>\n",
       "      <td>4</td>\n",
       "    </tr>\n",
       "    <tr>\n",
       "      <th>2</th>\n",
       "      <td>№13 14 ноября 1918 г. Присутствовали: генерал ...</td>\n",
       "      <td>5</td>\n",
       "    </tr>\n",
       "    <tr>\n",
       "      <th>3</th>\n",
       "      <td>1 октября 1920 г. I. Работа южной группы «Союз...</td>\n",
       "      <td>5</td>\n",
       "    </tr>\n",
       "    <tr>\n",
       "      <th>4</th>\n",
       "      <td>человека к работе над собою неустанной, что ос...</td>\n",
       "      <td>7</td>\n",
       "    </tr>\n",
       "  </tbody>\n",
       "</table>\n",
       "</div>"
      ],
      "text/plain": [
       "                                                text  label\n",
       "0  №107 29 октября 1919 г. Председательствовал: г...      5\n",
       "1   ОБЪЯВЛЕНИЕ ГЛАВНОГО СОВЕТА СРН О ВОЗМОЖНОСТИ ...      4\n",
       "2  №13 14 ноября 1918 г. Присутствовали: генерал ...      5\n",
       "3  1 октября 1920 г. I. Работа южной группы «Союз...      5\n",
       "4  человека к работе над собою неустанной, что ос...      7"
      ]
     },
     "execution_count": 4,
     "metadata": {},
     "output_type": "execute_result"
    }
   ],
   "source": [
    "data.head()"
   ]
  },
  {
   "cell_type": "code",
   "execution_count": 9,
   "id": "ed0522aa-599f-4465-8135-db91f1e42fce",
   "metadata": {},
   "outputs": [],
   "source": [
    "def sent_vec(sent):\n",
    "    vector_size = wv.vector_size\n",
    "    wv_res = np.zeros(vector_size)\n",
    "    # print(wv_res)\n",
    "    ctr = 1\n",
    "    for w in sent:\n",
    "        if w in wv:\n",
    "            ctr += 1\n",
    "            wv_res += wv[w]\n",
    "    wv_res = wv_res/ctr\n",
    "    return wv_res"
   ]
  },
  {
   "cell_type": "code",
   "execution_count": 5,
   "id": "de7ebf92-0252-4c76-aa10-f011a29daede",
   "metadata": {},
   "outputs": [],
   "source": [
    "def spacy_tokenizer(sentence):\n",
    "    # Creating our token object, which is used to create documents with linguistic annotations.\n",
    "    doc = nlp(sentence)\n",
    "\n",
    "    # Lemmatizing each token and converting each token into lowercase\n",
    "    mytokens = [ word.lemma_.lower().strip() for word in doc ]\n",
    "\n",
    "    # Removing stop words\n",
    "    mytokens = [ word for word in mytokens if word not in stop_words and word not in punctuations ]\n",
    "\n",
    "    # return preprocessed list of tokens\n",
    "    return mytokens"
   ]
  },
  {
   "cell_type": "code",
   "execution_count": 6,
   "id": "3fe4f59c-d493-4582-9e48-f413e9786aed",
   "metadata": {},
   "outputs": [],
   "source": [
    "nlp = spacy.load(\"ru_core_news_sm\")\n",
    "stop_words = nlp.Defaults.stop_words\n"
   ]
  },
  {
   "cell_type": "code",
   "execution_count": 7,
   "id": "67c57f3a-4bf5-4d63-b7c2-248bb0c7c275",
   "metadata": {},
   "outputs": [
    {
     "name": "stdout",
     "output_type": "stream",
     "text": [
      "!\"#$%&'()*+,-./:;<=>?@[\\]^_`{|}~\n"
     ]
    }
   ],
   "source": [
    "punctuations = string.punctuation\n",
    "print(punctuations)"
   ]
  },
  {
   "cell_type": "code",
   "execution_count": 13,
   "id": "a79e3058-047b-4dab-85c2-1b28b0575327",
   "metadata": {},
   "outputs": [],
   "source": [
    "data['tokens'] = data['text'].apply(spacy_tokenizer)"
   ]
  },
  {
   "cell_type": "code",
   "execution_count": 16,
   "id": "dad66d90-357e-4a3e-8bd7-f291403f6d91",
   "metadata": {},
   "outputs": [
    {
     "data": {
      "text/html": [
       "<div>\n",
       "<style scoped>\n",
       "    .dataframe tbody tr th:only-of-type {\n",
       "        vertical-align: middle;\n",
       "    }\n",
       "\n",
       "    .dataframe tbody tr th {\n",
       "        vertical-align: top;\n",
       "    }\n",
       "\n",
       "    .dataframe thead th {\n",
       "        text-align: right;\n",
       "    }\n",
       "</style>\n",
       "<table border=\"1\" class=\"dataframe\">\n",
       "  <thead>\n",
       "    <tr style=\"text-align: right;\">\n",
       "      <th></th>\n",
       "      <th>text</th>\n",
       "      <th>label</th>\n",
       "      <th>tokens</th>\n",
       "      <th>vec</th>\n",
       "    </tr>\n",
       "  </thead>\n",
       "  <tbody>\n",
       "    <tr>\n",
       "      <th>0</th>\n",
       "      <td>№107 29 октября 1919 г. Председательствовал: г...</td>\n",
       "      <td>5</td>\n",
       "      <td>[№, 107, 29, октябрь, 1919, г., председательст...</td>\n",
       "      <td>[0.02356454943732923, -0.25588998527375245, 0....</td>\n",
       "    </tr>\n",
       "    <tr>\n",
       "      <th>1</th>\n",
       "      <td>ОБЪЯВЛЕНИЕ ГЛАВНОГО СОВЕТА СРН О ВОЗМОЖНОСТИ ...</td>\n",
       "      <td>4</td>\n",
       "      <td>[объявление, главного, совета, срн, возможност...</td>\n",
       "      <td>[0.009499084349405372, -0.23016576355165047, 0...</td>\n",
       "    </tr>\n",
       "    <tr>\n",
       "      <th>2</th>\n",
       "      <td>№13 14 ноября 1918 г. Присутствовали: генерал ...</td>\n",
       "      <td>5</td>\n",
       "      <td>[№, 13, 14, ноябрь, 1918, г., присутствовать, ...</td>\n",
       "      <td>[-0.04520371645941993, -0.257928786047805, 0.0...</td>\n",
       "    </tr>\n",
       "    <tr>\n",
       "      <th>3</th>\n",
       "      <td>1 октября 1920 г. I. Работа южной группы «Союз...</td>\n",
       "      <td>5</td>\n",
       "      <td>[1, октябрь, 1920, г., i., работа, южный, груп...</td>\n",
       "      <td>[0.025100602099751877, -0.21974555051430264, 0...</td>\n",
       "    </tr>\n",
       "    <tr>\n",
       "      <th>4</th>\n",
       "      <td>человека к работе над собою неустанной, что ос...</td>\n",
       "      <td>7</td>\n",
       "      <td>[человек, работа, неустанный, освобождение, ду...</td>\n",
       "      <td>[-0.10345465863907807, -0.3687248403500569, -0...</td>\n",
       "    </tr>\n",
       "  </tbody>\n",
       "</table>\n",
       "</div>"
      ],
      "text/plain": [
       "                                                text  label  \\\n",
       "0  №107 29 октября 1919 г. Председательствовал: г...      5   \n",
       "1   ОБЪЯВЛЕНИЕ ГЛАВНОГО СОВЕТА СРН О ВОЗМОЖНОСТИ ...      4   \n",
       "2  №13 14 ноября 1918 г. Присутствовали: генерал ...      5   \n",
       "3  1 октября 1920 г. I. Работа южной группы «Союз...      5   \n",
       "4  человека к работе над собою неустанной, что ос...      7   \n",
       "\n",
       "                                              tokens  \\\n",
       "0  [№, 107, 29, октябрь, 1919, г., председательст...   \n",
       "1  [объявление, главного, совета, срн, возможност...   \n",
       "2  [№, 13, 14, ноябрь, 1918, г., присутствовать, ...   \n",
       "3  [1, октябрь, 1920, г., i., работа, южный, груп...   \n",
       "4  [человек, работа, неустанный, освобождение, ду...   \n",
       "\n",
       "                                                 vec  \n",
       "0  [0.02356454943732923, -0.25588998527375245, 0....  \n",
       "1  [0.009499084349405372, -0.23016576355165047, 0...  \n",
       "2  [-0.04520371645941993, -0.257928786047805, 0.0...  \n",
       "3  [0.025100602099751877, -0.21974555051430264, 0...  \n",
       "4  [-0.10345465863907807, -0.3687248403500569, -0...  "
      ]
     },
     "execution_count": 16,
     "metadata": {},
     "output_type": "execute_result"
    }
   ],
   "source": [
    "data.head()"
   ]
  },
  {
   "cell_type": "code",
   "execution_count": 15,
   "id": "6e2464a7-05cf-4b54-bdbb-dea23c1292c9",
   "metadata": {},
   "outputs": [],
   "source": [
    "data['vec'] = data['tokens'].apply(sent_vec)"
   ]
  },
  {
   "cell_type": "code",
   "execution_count": 17,
   "id": "9645fd81-f10f-48ad-97d4-f7b75047305e",
   "metadata": {},
   "outputs": [
    {
     "data": {
      "text/html": [
       "<div>\n",
       "<style scoped>\n",
       "    .dataframe tbody tr th:only-of-type {\n",
       "        vertical-align: middle;\n",
       "    }\n",
       "\n",
       "    .dataframe tbody tr th {\n",
       "        vertical-align: top;\n",
       "    }\n",
       "\n",
       "    .dataframe thead th {\n",
       "        text-align: right;\n",
       "    }\n",
       "</style>\n",
       "<table border=\"1\" class=\"dataframe\">\n",
       "  <thead>\n",
       "    <tr style=\"text-align: right;\">\n",
       "      <th></th>\n",
       "      <th>text</th>\n",
       "      <th>label</th>\n",
       "      <th>tokens</th>\n",
       "      <th>vec</th>\n",
       "    </tr>\n",
       "  </thead>\n",
       "  <tbody>\n",
       "    <tr>\n",
       "      <th>0</th>\n",
       "      <td>№107 29 октября 1919 г. Председательствовал: г...</td>\n",
       "      <td>5</td>\n",
       "      <td>[№, 107, 29, октябрь, 1919, г., председательст...</td>\n",
       "      <td>[0.02356454943732923, -0.25588998527375245, 0....</td>\n",
       "    </tr>\n",
       "    <tr>\n",
       "      <th>1</th>\n",
       "      <td>ОБЪЯВЛЕНИЕ ГЛАВНОГО СОВЕТА СРН О ВОЗМОЖНОСТИ ...</td>\n",
       "      <td>4</td>\n",
       "      <td>[объявление, главного, совета, срн, возможност...</td>\n",
       "      <td>[0.009499084349405372, -0.23016576355165047, 0...</td>\n",
       "    </tr>\n",
       "    <tr>\n",
       "      <th>2</th>\n",
       "      <td>№13 14 ноября 1918 г. Присутствовали: генерал ...</td>\n",
       "      <td>5</td>\n",
       "      <td>[№, 13, 14, ноябрь, 1918, г., присутствовать, ...</td>\n",
       "      <td>[-0.04520371645941993, -0.257928786047805, 0.0...</td>\n",
       "    </tr>\n",
       "    <tr>\n",
       "      <th>3</th>\n",
       "      <td>1 октября 1920 г. I. Работа южной группы «Союз...</td>\n",
       "      <td>5</td>\n",
       "      <td>[1, октябрь, 1920, г., i., работа, южный, груп...</td>\n",
       "      <td>[0.025100602099751877, -0.21974555051430264, 0...</td>\n",
       "    </tr>\n",
       "    <tr>\n",
       "      <th>4</th>\n",
       "      <td>человека к работе над собою неустанной, что ос...</td>\n",
       "      <td>7</td>\n",
       "      <td>[человек, работа, неустанный, освобождение, ду...</td>\n",
       "      <td>[-0.10345465863907807, -0.3687248403500569, -0...</td>\n",
       "    </tr>\n",
       "  </tbody>\n",
       "</table>\n",
       "</div>"
      ],
      "text/plain": [
       "                                                text  label  \\\n",
       "0  №107 29 октября 1919 г. Председательствовал: г...      5   \n",
       "1   ОБЪЯВЛЕНИЕ ГЛАВНОГО СОВЕТА СРН О ВОЗМОЖНОСТИ ...      4   \n",
       "2  №13 14 ноября 1918 г. Присутствовали: генерал ...      5   \n",
       "3  1 октября 1920 г. I. Работа южной группы «Союз...      5   \n",
       "4  человека к работе над собою неустанной, что ос...      7   \n",
       "\n",
       "                                              tokens  \\\n",
       "0  [№, 107, 29, октябрь, 1919, г., председательст...   \n",
       "1  [объявление, главного, совета, срн, возможност...   \n",
       "2  [№, 13, 14, ноябрь, 1918, г., присутствовать, ...   \n",
       "3  [1, октябрь, 1920, г., i., работа, южный, груп...   \n",
       "4  [человек, работа, неустанный, освобождение, ду...   \n",
       "\n",
       "                                                 vec  \n",
       "0  [0.02356454943732923, -0.25588998527375245, 0....  \n",
       "1  [0.009499084349405372, -0.23016576355165047, 0...  \n",
       "2  [-0.04520371645941993, -0.257928786047805, 0.0...  \n",
       "3  [0.025100602099751877, -0.21974555051430264, 0...  \n",
       "4  [-0.10345465863907807, -0.3687248403500569, -0...  "
      ]
     },
     "execution_count": 17,
     "metadata": {},
     "output_type": "execute_result"
    }
   ],
   "source": [
    "data.head()"
   ]
  },
  {
   "cell_type": "code",
   "execution_count": 18,
   "id": "d70c196c-17d9-4041-98a6-db95d661df30",
   "metadata": {},
   "outputs": [],
   "source": [
    "X = data['vec'].to_list()\n",
    "y = data['label'].to_list()"
   ]
  },
  {
   "cell_type": "code",
   "execution_count": 19,
   "id": "2f956695-6d1d-4df4-82ae-7303b0621e70",
   "metadata": {},
   "outputs": [],
   "source": [
    "\n",
    "from sklearn.model_selection import train_test_split\n",
    "X_train, X_test, y_train, y_test = train_test_split(X, y, test_size=0.2,stratify=y, shuffle=True)"
   ]
  },
  {
   "cell_type": "markdown",
   "id": "3edefa5d-35f7-4b53-8dea-0820eb06d06d",
   "metadata": {},
   "source": [
    "## LogisticRegression"
   ]
  },
  {
   "cell_type": "code",
   "execution_count": 2,
   "id": "907fa7c0-7a3b-4ba2-ad1b-6ce1e697d8ac",
   "metadata": {},
   "outputs": [],
   "source": [
    "from sklearn.linear_model import LogisticRegression\n",
    "classifier = LogisticRegression(solver='lbfgs', max_iter=3000)"
   ]
  },
  {
   "cell_type": "code",
   "execution_count": null,
   "id": "42b31a18-c648-4b78-8abe-613eb7a74abd",
   "metadata": {},
   "outputs": [],
   "source": [
    "classifier.fit(X_train,y_train)"
   ]
  },
  {
   "cell_type": "code",
   "execution_count": 20,
   "id": "17ef2389-1968-4b42-8b29-32b5d67a7725",
   "metadata": {},
   "outputs": [
    {
     "name": "stdout",
     "output_type": "stream",
     "text": [
      "Logistic Regression Accuracy: 0.7793814432989691\n",
      "Logistic Regression F1: 0.7974874812459888\n"
     ]
    }
   ],
   "source": [
    "from sklearn import metrics\n",
    "predicted = classifier.predict(X_test)\n",
    "print(\"Logistic Regression Accuracy:\",metrics.accuracy_score(y_test, predicted))\n",
    "print(\"Logistic Regression F1:\",metrics.precision_score(y_test, predicted, average='macro'))\n"
   ]
  },
  {
   "cell_type": "code",
   "execution_count": 21,
   "id": "5c5e815e-7d05-4e26-9ea7-fe97a1404030",
   "metadata": {},
   "outputs": [
    {
     "name": "stdout",
     "output_type": "stream",
     "text": [
      "              precision    recall  f1-score   support\n",
      "\n",
      "  Bolsheviki       0.88      0.69      0.77        52\n",
      "  Mensheviki       0.62      0.73      0.67        62\n",
      "    Left_SRs       0.79      0.77      0.78        70\n",
      "      Kadets       0.88      0.78      0.83        37\n",
      "      Rights       0.88      0.76      0.81        58\n",
      "  White_army       0.86      0.86      0.86        56\n",
      " Work_oppose       0.73      0.57      0.64        42\n",
      "      Nobles       0.75      0.91      0.82       108\n",
      "\n",
      "    accuracy                           0.78       485\n",
      "   macro avg       0.80      0.76      0.77       485\n",
      "weighted avg       0.79      0.78      0.78       485\n",
      "\n"
     ]
    }
   ],
   "source": [
    "from sklearn.metrics import classification_report\n",
    "\n",
    "\n",
    "target_names = ['Bolsheviki', 'Mensheviki', 'Left_SRs', 'Kadets', 'Rights', 'White_army', 'Work_oppose', 'Nobles']\n",
    "\n",
    "print(classification_report(y_test, predicted, target_names=target_names))"
   ]
  },
  {
   "cell_type": "markdown",
   "id": "7948129e-f972-426a-b50e-c2e5d7f26c68",
   "metadata": {},
   "source": [
    "## RandomForest"
   ]
  },
  {
   "cell_type": "code",
   "execution_count": 17,
   "id": "40e36f21-877a-40e7-9cb6-f0c6202f6813",
   "metadata": {},
   "outputs": [
    {
     "data": {
      "text/html": [
       "<style>#sk-container-id-1 {color: black;background-color: white;}#sk-container-id-1 pre{padding: 0;}#sk-container-id-1 div.sk-toggleable {background-color: white;}#sk-container-id-1 label.sk-toggleable__label {cursor: pointer;display: block;width: 100%;margin-bottom: 0;padding: 0.3em;box-sizing: border-box;text-align: center;}#sk-container-id-1 label.sk-toggleable__label-arrow:before {content: \"▸\";float: left;margin-right: 0.25em;color: #696969;}#sk-container-id-1 label.sk-toggleable__label-arrow:hover:before {color: black;}#sk-container-id-1 div.sk-estimator:hover label.sk-toggleable__label-arrow:before {color: black;}#sk-container-id-1 div.sk-toggleable__content {max-height: 0;max-width: 0;overflow: hidden;text-align: left;background-color: #f0f8ff;}#sk-container-id-1 div.sk-toggleable__content pre {margin: 0.2em;color: black;border-radius: 0.25em;background-color: #f0f8ff;}#sk-container-id-1 input.sk-toggleable__control:checked~div.sk-toggleable__content {max-height: 200px;max-width: 100%;overflow: auto;}#sk-container-id-1 input.sk-toggleable__control:checked~label.sk-toggleable__label-arrow:before {content: \"▾\";}#sk-container-id-1 div.sk-estimator input.sk-toggleable__control:checked~label.sk-toggleable__label {background-color: #d4ebff;}#sk-container-id-1 div.sk-label input.sk-toggleable__control:checked~label.sk-toggleable__label {background-color: #d4ebff;}#sk-container-id-1 input.sk-hidden--visually {border: 0;clip: rect(1px 1px 1px 1px);clip: rect(1px, 1px, 1px, 1px);height: 1px;margin: -1px;overflow: hidden;padding: 0;position: absolute;width: 1px;}#sk-container-id-1 div.sk-estimator {font-family: monospace;background-color: #f0f8ff;border: 1px dotted black;border-radius: 0.25em;box-sizing: border-box;margin-bottom: 0.5em;}#sk-container-id-1 div.sk-estimator:hover {background-color: #d4ebff;}#sk-container-id-1 div.sk-parallel-item::after {content: \"\";width: 100%;border-bottom: 1px solid gray;flex-grow: 1;}#sk-container-id-1 div.sk-label:hover label.sk-toggleable__label {background-color: #d4ebff;}#sk-container-id-1 div.sk-serial::before {content: \"\";position: absolute;border-left: 1px solid gray;box-sizing: border-box;top: 0;bottom: 0;left: 50%;z-index: 0;}#sk-container-id-1 div.sk-serial {display: flex;flex-direction: column;align-items: center;background-color: white;padding-right: 0.2em;padding-left: 0.2em;position: relative;}#sk-container-id-1 div.sk-item {position: relative;z-index: 1;}#sk-container-id-1 div.sk-parallel {display: flex;align-items: stretch;justify-content: center;background-color: white;position: relative;}#sk-container-id-1 div.sk-item::before, #sk-container-id-1 div.sk-parallel-item::before {content: \"\";position: absolute;border-left: 1px solid gray;box-sizing: border-box;top: 0;bottom: 0;left: 50%;z-index: -1;}#sk-container-id-1 div.sk-parallel-item {display: flex;flex-direction: column;z-index: 1;position: relative;background-color: white;}#sk-container-id-1 div.sk-parallel-item:first-child::after {align-self: flex-end;width: 50%;}#sk-container-id-1 div.sk-parallel-item:last-child::after {align-self: flex-start;width: 50%;}#sk-container-id-1 div.sk-parallel-item:only-child::after {width: 0;}#sk-container-id-1 div.sk-dashed-wrapped {border: 1px dashed gray;margin: 0 0.4em 0.5em 0.4em;box-sizing: border-box;padding-bottom: 0.4em;background-color: white;}#sk-container-id-1 div.sk-label label {font-family: monospace;font-weight: bold;display: inline-block;line-height: 1.2em;}#sk-container-id-1 div.sk-label-container {text-align: center;}#sk-container-id-1 div.sk-container {/* jupyter's `normalize.less` sets `[hidden] { display: none; }` but bootstrap.min.css set `[hidden] { display: none !important; }` so we also need the `!important` here to be able to override the default hidden behavior on the sphinx rendered scikit-learn.org. See: https://github.com/scikit-learn/scikit-learn/issues/21755 */display: inline-block !important;position: relative;}#sk-container-id-1 div.sk-text-repr-fallback {display: none;}</style><div id=\"sk-container-id-1\" class=\"sk-top-container\"><div class=\"sk-text-repr-fallback\"><pre>RandomForestClassifier(n_estimators=1000, random_state=0)</pre><b>In a Jupyter environment, please rerun this cell to show the HTML representation or trust the notebook. <br />On GitHub, the HTML representation is unable to render, please try loading this page with nbviewer.org.</b></div><div class=\"sk-container\" hidden><div class=\"sk-item\"><div class=\"sk-estimator sk-toggleable\"><input class=\"sk-toggleable__control sk-hidden--visually\" id=\"sk-estimator-id-1\" type=\"checkbox\" checked><label for=\"sk-estimator-id-1\" class=\"sk-toggleable__label sk-toggleable__label-arrow\">RandomForestClassifier</label><div class=\"sk-toggleable__content\"><pre>RandomForestClassifier(n_estimators=1000, random_state=0)</pre></div></div></div></div></div>"
      ],
      "text/plain": [
       "RandomForestClassifier(n_estimators=1000, random_state=0)"
      ]
     },
     "execution_count": 17,
     "metadata": {},
     "output_type": "execute_result"
    }
   ],
   "source": [
    "from sklearn.ensemble import RandomForestClassifier\n",
    "\n",
    "classifier = RandomForestClassifier(n_estimators=1000, random_state=0)\n",
    "classifier.fit(X_train,y_train)"
   ]
  },
  {
   "cell_type": "code",
   "execution_count": 18,
   "id": "25290538-4d2f-4847-8e37-27341abd3b06",
   "metadata": {},
   "outputs": [
    {
     "name": "stdout",
     "output_type": "stream",
     "text": [
      "Logistic Regression Accuracy: 0.8061855670103093\n",
      "Logistic Regression F1: 0.8357587432899796\n"
     ]
    }
   ],
   "source": [
    "from sklearn import metrics\n",
    "predicted = classifier.predict(X_test)\n",
    "print(\"Logistic Regression Accuracy:\",metrics.accuracy_score(y_test, predicted))\n",
    "print(\"Logistic Regression F1:\",metrics.precision_score(y_test, predicted, average='macro'))"
   ]
  },
  {
   "cell_type": "code",
   "execution_count": 19,
   "id": "7571801c-85aa-437e-9b82-dda4cfb914df",
   "metadata": {},
   "outputs": [
    {
     "name": "stdout",
     "output_type": "stream",
     "text": [
      "              precision    recall  f1-score   support\n",
      "\n",
      "  Bolsheviki       1.00      0.77      0.87        52\n",
      "  Mensheviki       0.62      0.77      0.69        62\n",
      "    Left_SRs       0.81      0.79      0.80        70\n",
      "      Kadets       0.93      0.70      0.80        37\n",
      "      Rights       0.90      0.76      0.82        58\n",
      "  White_army       0.82      0.84      0.83        56\n",
      " Work_oppose       0.82      0.79      0.80        42\n",
      "      Nobles       0.78      0.91      0.84       108\n",
      "\n",
      "    accuracy                           0.81       485\n",
      "   macro avg       0.84      0.79      0.81       485\n",
      "weighted avg       0.82      0.81      0.81       485\n",
      "\n"
     ]
    }
   ],
   "source": [
    "from sklearn.metrics import classification_report\n",
    "target_names = ['Bolsheviki', 'Mensheviki', 'Left_SRs', 'Kadets', 'Rights', 'White_army', 'Work_oppose', 'Nobles']\n",
    "\n",
    "print(classification_report(y_test, predicted, target_names=target_names))"
   ]
  },
  {
   "cell_type": "markdown",
   "id": "cf92da85-785a-4ce2-bdba-1e1d20ff2ebb",
   "metadata": {},
   "source": [
    "## XGBoost"
   ]
  },
  {
   "cell_type": "code",
   "execution_count": null,
   "id": "58eaa32b-6b14-460e-8240-ebbae4181154",
   "metadata": {},
   "outputs": [],
   "source": [
    "import xgboost as xgb\n",
    "\n",
    "# Instantiate classifier with mostly default hyperparameters\n",
    "xgb_classifier = xgb.XGBClassifier(n_estimators=1000, reg_lambda=1, gamma=0, max_depth=9, objective=\"multi:softmax\",\n",
    "                                   verbosity=3)\n",
    "# Fit classifier\n",
    "xgb_classifier.fit(X_train, y_train)"
   ]
  },
  {
   "cell_type": "code",
   "execution_count": null,
   "id": "c1fa6252-76d8-4145-b6bf-21e3174f2ebf",
   "metadata": {},
   "outputs": [],
   "source": [
    "from sklearn import metrics\n",
    "predicted = xgb_classifier.predict(X_test)"
   ]
  },
  {
   "cell_type": "code",
   "execution_count": 22,
   "id": "f06ad8a8-276b-4fe3-8eb6-29d2ecd34f52",
   "metadata": {},
   "outputs": [
    {
     "name": "stdout",
     "output_type": "stream",
     "text": [
      "              precision    recall  f1-score   support\n",
      "\n",
      "  Bolsheviki       0.87      0.77      0.82        52\n",
      "  Mensheviki       0.70      0.77      0.73        62\n",
      "    Left_SRs       0.85      0.76      0.80        70\n",
      "      Kadets       0.88      0.81      0.85        37\n",
      "      Rights       0.79      0.79      0.79        58\n",
      "  White_army       0.82      0.91      0.86        56\n",
      " Work_oppose       0.85      0.79      0.81        42\n",
      "      Nobles       0.85      0.91      0.88       108\n",
      "\n",
      "    accuracy                           0.82       485\n",
      "   macro avg       0.83      0.81      0.82       485\n",
      "weighted avg       0.83      0.82      0.82       485\n",
      "\n"
     ]
    }
   ],
   "source": [
    "from sklearn.metrics import classification_report\n",
    "target_names = ['Bolsheviki', 'Mensheviki', 'Left_SRs', 'Kadets', 'Rights', 'White_army', 'Work_oppose', 'Nobles']\n",
    "\n",
    "print(classification_report(y_test, predicted, target_names=target_names))"
   ]
  },
  {
   "cell_type": "markdown",
   "id": "ce19f1aa-c715-448b-8a5f-fa7c7b11a128",
   "metadata": {},
   "source": [
    "## MultinomialNB "
   ]
  },
  {
   "cell_type": "code",
   "execution_count": 10,
   "id": "942ad9fb-ec26-4416-b06d-7ad288030b9a",
   "metadata": {},
   "outputs": [],
   "source": [
    "data['tokens'] = data['text'].apply(spacy_tokenizer)"
   ]
  },
  {
   "cell_type": "code",
   "execution_count": 17,
   "id": "0ba43b71-cf76-4b5e-b853-d18f42432297",
   "metadata": {},
   "outputs": [
    {
     "data": {
      "text/html": [
       "<div>\n",
       "<style scoped>\n",
       "    .dataframe tbody tr th:only-of-type {\n",
       "        vertical-align: middle;\n",
       "    }\n",
       "\n",
       "    .dataframe tbody tr th {\n",
       "        vertical-align: top;\n",
       "    }\n",
       "\n",
       "    .dataframe thead th {\n",
       "        text-align: right;\n",
       "    }\n",
       "</style>\n",
       "<table border=\"1\" class=\"dataframe\">\n",
       "  <thead>\n",
       "    <tr style=\"text-align: right;\">\n",
       "      <th></th>\n",
       "      <th>text</th>\n",
       "      <th>label</th>\n",
       "      <th>tokens</th>\n",
       "      <th>joined_texts</th>\n",
       "    </tr>\n",
       "  </thead>\n",
       "  <tbody>\n",
       "    <tr>\n",
       "      <th>0</th>\n",
       "      <td>№107 29 октября 1919 г. Председательствовал: г...</td>\n",
       "      <td>5</td>\n",
       "      <td>[№, 107, 29, октябрь, 1919, г., председательст...</td>\n",
       "      <td>№ 107 29 октябрь 1919 г. председательствовал г...</td>\n",
       "    </tr>\n",
       "    <tr>\n",
       "      <th>1</th>\n",
       "      <td>ОБЪЯВЛЕНИЕ ГЛАВНОГО СОВЕТА СРН О ВОЗМОЖНОСТИ ...</td>\n",
       "      <td>4</td>\n",
       "      <td>[объявление, главного, совета, срн, возможност...</td>\n",
       "      <td>объявление главного совета срн возможность при...</td>\n",
       "    </tr>\n",
       "    <tr>\n",
       "      <th>2</th>\n",
       "      <td>№13 14 ноября 1918 г. Присутствовали: генерал ...</td>\n",
       "      <td>5</td>\n",
       "      <td>[№, 13, 14, ноябрь, 1918, г., присутствовать, ...</td>\n",
       "      <td>№ 13 14 ноябрь 1918 г. присутствовать генерал ...</td>\n",
       "    </tr>\n",
       "    <tr>\n",
       "      <th>3</th>\n",
       "      <td>1 октября 1920 г. I. Работа южной группы «Союз...</td>\n",
       "      <td>5</td>\n",
       "      <td>[1, октябрь, 1920, г., i., работа, южный, груп...</td>\n",
       "      <td>1 октябрь 1920 г. i. работа южный группа союз ...</td>\n",
       "    </tr>\n",
       "    <tr>\n",
       "      <th>4</th>\n",
       "      <td>человека к работе над собою неустанной, что ос...</td>\n",
       "      <td>7</td>\n",
       "      <td>[человек, работа, неустанный, освобождение, ду...</td>\n",
       "      <td>человек работа неустанный освобождение духовны...</td>\n",
       "    </tr>\n",
       "  </tbody>\n",
       "</table>\n",
       "</div>"
      ],
      "text/plain": [
       "                                                text  label  \\\n",
       "0  №107 29 октября 1919 г. Председательствовал: г...      5   \n",
       "1   ОБЪЯВЛЕНИЕ ГЛАВНОГО СОВЕТА СРН О ВОЗМОЖНОСТИ ...      4   \n",
       "2  №13 14 ноября 1918 г. Присутствовали: генерал ...      5   \n",
       "3  1 октября 1920 г. I. Работа южной группы «Союз...      5   \n",
       "4  человека к работе над собою неустанной, что ос...      7   \n",
       "\n",
       "                                              tokens  \\\n",
       "0  [№, 107, 29, октябрь, 1919, г., председательст...   \n",
       "1  [объявление, главного, совета, срн, возможност...   \n",
       "2  [№, 13, 14, ноябрь, 1918, г., присутствовать, ...   \n",
       "3  [1, октябрь, 1920, г., i., работа, южный, груп...   \n",
       "4  [человек, работа, неустанный, освобождение, ду...   \n",
       "\n",
       "                                        joined_texts  \n",
       "0  № 107 29 октябрь 1919 г. председательствовал г...  \n",
       "1  объявление главного совета срн возможность при...  \n",
       "2  № 13 14 ноябрь 1918 г. присутствовать генерал ...  \n",
       "3  1 октябрь 1920 г. i. работа южный группа союз ...  \n",
       "4  человек работа неустанный освобождение духовны...  "
      ]
     },
     "execution_count": 17,
     "metadata": {},
     "output_type": "execute_result"
    }
   ],
   "source": [
    "data.head()"
   ]
  },
  {
   "cell_type": "code",
   "execution_count": 16,
   "id": "718bc6b7-f4c5-4d1d-a27c-3b5dfa86eec5",
   "metadata": {},
   "outputs": [],
   "source": [
    "data['joined_texts'] = data['tokens'].apply(lambda x: ' '.join(x))"
   ]
  },
  {
   "cell_type": "code",
   "execution_count": 18,
   "id": "43b194ca-3c7a-4dec-9cbc-0164e05328c0",
   "metadata": {
    "scrolled": true
   },
   "outputs": [],
   "source": [
    "from sklearn.feature_extraction.text import TfidfVectorizer\n",
    "from sklearn.model_selection import train_test_split\n",
    "\n",
    "X = data['joined_texts'].to_list()\n",
    "y = data['label'].to_list()\n",
    "X_train, X_test, y_train, y_test = train_test_split(X, y, test_size=0.2,stratify=y, shuffle=True)\n",
    "\n"
   ]
  },
  {
   "cell_type": "code",
   "execution_count": 19,
   "id": "ead30b5a-6ab6-4f52-8236-280f3140efe3",
   "metadata": {},
   "outputs": [],
   "source": [
    "from nltk.corpus import stopwords as nltk_stopwords\n",
    "\n",
    "\n",
    "vectorizer = TfidfVectorizer(stop_words='english')\n",
    "X_train_vect = vectorizer.fit_transform(X_train)\n",
    "X_test_vect = vectorizer.transform(X_test)"
   ]
  },
  {
   "cell_type": "code",
   "execution_count": 20,
   "id": "a9ece64a-eeaa-4fba-8838-5ffc931a7b8f",
   "metadata": {},
   "outputs": [
    {
     "data": {
      "text/html": [
       "<style>#sk-container-id-1 {color: black;background-color: white;}#sk-container-id-1 pre{padding: 0;}#sk-container-id-1 div.sk-toggleable {background-color: white;}#sk-container-id-1 label.sk-toggleable__label {cursor: pointer;display: block;width: 100%;margin-bottom: 0;padding: 0.3em;box-sizing: border-box;text-align: center;}#sk-container-id-1 label.sk-toggleable__label-arrow:before {content: \"▸\";float: left;margin-right: 0.25em;color: #696969;}#sk-container-id-1 label.sk-toggleable__label-arrow:hover:before {color: black;}#sk-container-id-1 div.sk-estimator:hover label.sk-toggleable__label-arrow:before {color: black;}#sk-container-id-1 div.sk-toggleable__content {max-height: 0;max-width: 0;overflow: hidden;text-align: left;background-color: #f0f8ff;}#sk-container-id-1 div.sk-toggleable__content pre {margin: 0.2em;color: black;border-radius: 0.25em;background-color: #f0f8ff;}#sk-container-id-1 input.sk-toggleable__control:checked~div.sk-toggleable__content {max-height: 200px;max-width: 100%;overflow: auto;}#sk-container-id-1 input.sk-toggleable__control:checked~label.sk-toggleable__label-arrow:before {content: \"▾\";}#sk-container-id-1 div.sk-estimator input.sk-toggleable__control:checked~label.sk-toggleable__label {background-color: #d4ebff;}#sk-container-id-1 div.sk-label input.sk-toggleable__control:checked~label.sk-toggleable__label {background-color: #d4ebff;}#sk-container-id-1 input.sk-hidden--visually {border: 0;clip: rect(1px 1px 1px 1px);clip: rect(1px, 1px, 1px, 1px);height: 1px;margin: -1px;overflow: hidden;padding: 0;position: absolute;width: 1px;}#sk-container-id-1 div.sk-estimator {font-family: monospace;background-color: #f0f8ff;border: 1px dotted black;border-radius: 0.25em;box-sizing: border-box;margin-bottom: 0.5em;}#sk-container-id-1 div.sk-estimator:hover {background-color: #d4ebff;}#sk-container-id-1 div.sk-parallel-item::after {content: \"\";width: 100%;border-bottom: 1px solid gray;flex-grow: 1;}#sk-container-id-1 div.sk-label:hover label.sk-toggleable__label {background-color: #d4ebff;}#sk-container-id-1 div.sk-serial::before {content: \"\";position: absolute;border-left: 1px solid gray;box-sizing: border-box;top: 0;bottom: 0;left: 50%;z-index: 0;}#sk-container-id-1 div.sk-serial {display: flex;flex-direction: column;align-items: center;background-color: white;padding-right: 0.2em;padding-left: 0.2em;position: relative;}#sk-container-id-1 div.sk-item {position: relative;z-index: 1;}#sk-container-id-1 div.sk-parallel {display: flex;align-items: stretch;justify-content: center;background-color: white;position: relative;}#sk-container-id-1 div.sk-item::before, #sk-container-id-1 div.sk-parallel-item::before {content: \"\";position: absolute;border-left: 1px solid gray;box-sizing: border-box;top: 0;bottom: 0;left: 50%;z-index: -1;}#sk-container-id-1 div.sk-parallel-item {display: flex;flex-direction: column;z-index: 1;position: relative;background-color: white;}#sk-container-id-1 div.sk-parallel-item:first-child::after {align-self: flex-end;width: 50%;}#sk-container-id-1 div.sk-parallel-item:last-child::after {align-self: flex-start;width: 50%;}#sk-container-id-1 div.sk-parallel-item:only-child::after {width: 0;}#sk-container-id-1 div.sk-dashed-wrapped {border: 1px dashed gray;margin: 0 0.4em 0.5em 0.4em;box-sizing: border-box;padding-bottom: 0.4em;background-color: white;}#sk-container-id-1 div.sk-label label {font-family: monospace;font-weight: bold;display: inline-block;line-height: 1.2em;}#sk-container-id-1 div.sk-label-container {text-align: center;}#sk-container-id-1 div.sk-container {/* jupyter's `normalize.less` sets `[hidden] { display: none; }` but bootstrap.min.css set `[hidden] { display: none !important; }` so we also need the `!important` here to be able to override the default hidden behavior on the sphinx rendered scikit-learn.org. See: https://github.com/scikit-learn/scikit-learn/issues/21755 */display: inline-block !important;position: relative;}#sk-container-id-1 div.sk-text-repr-fallback {display: none;}</style><div id=\"sk-container-id-1\" class=\"sk-top-container\"><div class=\"sk-text-repr-fallback\"><pre>MultinomialNB()</pre><b>In a Jupyter environment, please rerun this cell to show the HTML representation or trust the notebook. <br />On GitHub, the HTML representation is unable to render, please try loading this page with nbviewer.org.</b></div><div class=\"sk-container\" hidden><div class=\"sk-item\"><div class=\"sk-estimator sk-toggleable\"><input class=\"sk-toggleable__control sk-hidden--visually\" id=\"sk-estimator-id-1\" type=\"checkbox\" checked><label for=\"sk-estimator-id-1\" class=\"sk-toggleable__label sk-toggleable__label-arrow\">MultinomialNB</label><div class=\"sk-toggleable__content\"><pre>MultinomialNB()</pre></div></div></div></div></div>"
      ],
      "text/plain": [
       "MultinomialNB()"
      ]
     },
     "execution_count": 20,
     "metadata": {},
     "output_type": "execute_result"
    }
   ],
   "source": [
    "from sklearn.naive_bayes import MultinomialNB\n",
    "\n",
    "classifier = MultinomialNB()\n",
    "classifier.fit(X_train_vect, y_train)"
   ]
  },
  {
   "cell_type": "code",
   "execution_count": 21,
   "id": "e433e31f-1a8d-47c4-a8a8-364c5cace608",
   "metadata": {},
   "outputs": [
    {
     "name": "stdout",
     "output_type": "stream",
     "text": [
      "              precision    recall  f1-score   support\n",
      "\n",
      "  Bolsheviki       1.00      0.52      0.68        52\n",
      "  Mensheviki       0.63      0.95      0.76        62\n",
      "    Left_SRs       0.95      0.76      0.84        70\n",
      "      Kadets       1.00      0.65      0.79        37\n",
      "      Rights       1.00      0.55      0.71        58\n",
      "  White_army       0.93      0.75      0.83        56\n",
      " Work_oppose       1.00      0.26      0.42        42\n",
      "      Nobles       0.53      0.97      0.69       108\n",
      "\n",
      "    accuracy                           0.73       485\n",
      "   macro avg       0.88      0.68      0.71       485\n",
      "weighted avg       0.83      0.73      0.72       485\n",
      "\n"
     ]
    }
   ],
   "source": [
    "from sklearn.metrics import classification_report\n",
    "\n",
    "y_pred = classifier.predict(X_test_vect)\n",
    "target_names = ['Bolsheviki', 'Mensheviki', 'Left_SRs', 'Kadets', 'Rights', 'White_army', 'Work_oppose', 'Nobles']\n",
    "print(classification_report(y_test, y_pred, target_names=target_names))"
   ]
  }
 ],
 "metadata": {
  "kernelspec": {
   "display_name": "Python 3 (ipykernel)",
   "language": "python",
   "name": "python3"
  },
  "language_info": {
   "codemirror_mode": {
    "name": "ipython",
    "version": 3
   },
   "file_extension": ".py",
   "mimetype": "text/x-python",
   "name": "python",
   "nbconvert_exporter": "python",
   "pygments_lexer": "ipython3",
   "version": "3.10.5"
  }
 },
 "nbformat": 4,
 "nbformat_minor": 5
}
